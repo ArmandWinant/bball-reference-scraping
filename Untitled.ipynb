{
 "cells": [
  {
   "cell_type": "code",
   "execution_count": 34,
   "id": "e65a39d7",
   "metadata": {},
   "outputs": [],
   "source": [
    "import pandas as pd\n",
    "import numpy as np\n",
    "from bs4 import BeautifulSoup\n",
    "import requests\n",
    "import time\n",
    "from datetime import datetime"
   ]
  },
  {
   "cell_type": "code",
   "execution_count": 23,
   "id": "abb338da",
   "metadata": {},
   "outputs": [],
   "source": [
    "url = \"https://www.basketball-reference.com/boxscores/\""
   ]
  },
  {
   "cell_type": "code",
   "execution_count": 24,
   "id": "03ffbad4",
   "metadata": {},
   "outputs": [
    {
     "name": "stdout",
     "output_type": "stream",
     "text": [
      "<title>NBA Games Played on June 16, 2022 | Basketball-Reference.com</title>\n"
     ]
    }
   ],
   "source": [
    "req = requests.get(url)\n",
    "soup = BeautifulSoup(req.text, \"html.parser\")\n",
    "print(soup.title)"
   ]
  },
  {
   "cell_type": "code",
   "execution_count": 44,
   "id": "cf22a94a",
   "metadata": {},
   "outputs": [],
   "source": [
    "def extract_url_date(url):\n",
    "    [_, day_info] = url.split(\"?\")\n",
    "    [month, day, year] = [x.split(\"=\")[1].zfill(2) for x in day_info.split(\"&\")]\n",
    "    date_obj = datetime.strptime(f\"{day}/{month}/{year}\", '%d/%m/%Y').date()\n",
    "    \n",
    "    return date_obj"
   ]
  },
  {
   "cell_type": "code",
   "execution_count": 45,
   "id": "aa0bb618",
   "metadata": {},
   "outputs": [
    {
     "name": "stdout",
     "output_type": "stream",
     "text": [
      "2022-06-03\n",
      "2022-06-02\n"
     ]
    },
    {
     "ename": "KeyboardInterrupt",
     "evalue": "",
     "output_type": "error",
     "traceback": [
      "\u001b[0;31m---------------------------------------------------------------------------\u001b[0m",
      "\u001b[0;31mKeyboardInterrupt\u001b[0m                         Traceback (most recent call last)",
      "Input \u001b[0;32mIn [45]\u001b[0m, in \u001b[0;36m<cell line: 2>\u001b[0;34m()\u001b[0m\n\u001b[1;32m      4\u001b[0m date \u001b[38;5;241m=\u001b[39m extract_url_date(url)\n\u001b[1;32m      5\u001b[0m \u001b[38;5;28mprint\u001b[39m(date)\n\u001b[0;32m----> 7\u001b[0m \u001b[43mtime\u001b[49m\u001b[38;5;241;43m.\u001b[39;49m\u001b[43msleep\u001b[49m\u001b[43m(\u001b[49m\u001b[38;5;241;43m30\u001b[39;49m\u001b[43m)\u001b[49m\n\u001b[1;32m      8\u001b[0m req \u001b[38;5;241m=\u001b[39m requests\u001b[38;5;241m.\u001b[39mget(url)\n\u001b[1;32m      9\u001b[0m soup \u001b[38;5;241m=\u001b[39m BeautifulSoup(req\u001b[38;5;241m.\u001b[39mtext, \u001b[38;5;124m\"\u001b[39m\u001b[38;5;124mhtml.parser\u001b[39m\u001b[38;5;124m\"\u001b[39m)\n",
      "\u001b[0;31mKeyboardInterrupt\u001b[0m: "
     ]
    }
   ],
   "source": [
    "previous_button = soup.find_all(class_=\"button2 prev\")\n",
    "while len(previous_button) == 1:\n",
    "    url = \"https://www.basketball-reference.com\" + previous_button[0][\"href\"]\n",
    "    date = extract_url_date(url)\n",
    "    print(date)\n",
    "    \n",
    "    time.sleep(30)\n",
    "    req = requests.get(url)\n",
    "    soup = BeautifulSoup(req.text, \"html.parser\")\n",
    "    previous_button = soup.find_all(class_=\"button2 prev\")"
   ]
  },
  {
   "cell_type": "code",
   "execution_count": null,
   "id": "723977e1",
   "metadata": {},
   "outputs": [],
   "source": []
  },
  {
   "cell_type": "code",
   "execution_count": null,
   "id": "89be5288",
   "metadata": {},
   "outputs": [],
   "source": []
  },
  {
   "cell_type": "code",
   "execution_count": null,
   "id": "5793629c",
   "metadata": {},
   "outputs": [],
   "source": []
  }
 ],
 "metadata": {
  "kernelspec": {
   "display_name": "Python 3 (ipykernel)",
   "language": "python",
   "name": "python3"
  },
  "language_info": {
   "codemirror_mode": {
    "name": "ipython",
    "version": 3
   },
   "file_extension": ".py",
   "mimetype": "text/x-python",
   "name": "python",
   "nbconvert_exporter": "python",
   "pygments_lexer": "ipython3",
   "version": "3.9.12"
  }
 },
 "nbformat": 4,
 "nbformat_minor": 5
}
